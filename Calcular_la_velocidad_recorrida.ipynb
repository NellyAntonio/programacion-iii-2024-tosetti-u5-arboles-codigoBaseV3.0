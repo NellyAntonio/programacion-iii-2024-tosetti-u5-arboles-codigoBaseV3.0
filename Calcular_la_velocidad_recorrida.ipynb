{
  "cells": [
    {
      "cell_type": "markdown",
      "metadata": {
        "id": "view-in-github",
        "colab_type": "text"
      },
      "source": [
        "<a href=\"https://colab.research.google.com/github/NellyAntonio/programacion-iii-2024-tosetti-u5-arboles-codigoBaseV3.0/blob/master/Calcular_la_velocidad_recorrida.ipynb\" target=\"_parent\"><img src=\"https://colab.research.google.com/assets/colab-badge.svg\" alt=\"Open In Colab\"/></a>"
      ]
    },
    {
      "cell_type": "code",
      "execution_count": null,
      "metadata": {
        "colab": {
          "base_uri": "https://localhost:8080/"
        },
        "id": "XAlDgOk0hbPx",
        "outputId": "4229e1de-40c2-44b6-8edd-ad327786dc57"
      },
      "outputs": [
        {
          "output_type": "stream",
          "name": "stdout",
          "text": [
            "Introduce la distancia:59\n",
            "Introduce el tiempo:23\n",
            "La velocidad es de: 2.5652173913043477 m/s\n"
          ]
        }
      ],
      "source": [
        "Distancia= input(\"Introduce la distancia:\")\n",
        "Tiempo= input(\"Introduce el tiempo:\")\n",
        "Velocidad= int(Distancia)/int(Tiempo)\n",
        "\n",
        "print(\"La velocidad es de:\",Velocidad,\"m/s\")"
      ]
    }
  ],
  "metadata": {
    "colab": {
      "provenance": [],
      "include_colab_link": true
    },
    "kernelspec": {
      "display_name": "Python 3",
      "name": "python3"
    }
  },
  "nbformat": 4,
  "nbformat_minor": 0
}